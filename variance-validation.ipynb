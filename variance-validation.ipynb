{
 "cells": [
  {
   "cell_type": "code",
   "execution_count": 7,
   "metadata": {
    "collapsed": true,
    "ExecuteTime": {
     "end_time": "2023-06-27T15:46:19.291060Z",
     "start_time": "2023-06-27T15:46:19.074034Z"
    }
   },
   "outputs": [],
   "source": [
    "from pathlib import Path\n",
    "\n",
    "import matplotlib.pyplot as plt\n",
    "import numpy as np\n",
    "import onnxruntime as rt\n",
    "import pandas as pd\n",
    "from tqdm import tqdm\n",
    "\n",
    "from calibration.color_transformation.model_filename import compose_model_filename"
   ]
  },
  {
   "cell_type": "code",
   "execution_count": 2,
   "outputs": [],
   "source": [
    "INPUT_BANDS = list('grizy')\n",
    "OUTPUT_BAND = 'r'\n",
    "INPUT_SURVEY = 'PS1'\n",
    "OUTPUT_SURVEY = 'DES'\n",
    "\n",
    "model_filename = compose_model_filename(input_survey=INPUT_SURVEY, output_survey=OUTPUT_SURVEY, output_band=OUTPUT_BAND, input_bands=INPUT_BANDS)\n",
    "model_dir = Path(f'models/phot-transformation')\n",
    "\n",
    "MAG_MODEL = model_dir / model_filename\n",
    "VAR_MODEL = model_dir / f'var_{model_filename}'\n",
    "assert MAG_MODEL.exists()\n",
    "assert VAR_MODEL.exists()\n",
    "\n",
    "DATAPATH = Path('data/ps1_stars.parquet')\n",
    "\n",
    "SUBSAMPLE = 1_000_000"
   ],
   "metadata": {
    "collapsed": false,
    "ExecuteTime": {
     "end_time": "2023-06-27T15:45:02.282918Z",
     "start_time": "2023-06-27T15:45:02.280645Z"
    }
   }
  },
  {
   "cell_type": "code",
   "execution_count": 37,
   "outputs": [],
   "source": [
    "def apply_model_in_batches(session, data, batch_size=1<<20):\n",
    "    result = []\n",
    "    for i_batch in tqdm(range(0, len(data), batch_size)):\n",
    "        batch = data[i_batch:i_batch + batch_size]\n",
    "        result.append(session.run([session.get_outputs()[0].name], {session.get_inputs()[0].name: batch})[0].squeeze())\n",
    "    return np.concatenate(result)\n",
    "\n",
    "\n",
    "def simulate_variance(session, data, errors, batch_size=1<<20, rng=0, n_samples=1_000):\n",
    "    rng = np.random.default_rng(rng)\n",
    "    deltas = rng.normal(loc=0, scale=1, size=(n_samples, data.shape[1])).astype(np.float32)\n",
    "\n",
    "    actual_batch_size = max(1, batch_size // n_samples)\n",
    "\n",
    "    result = []\n",
    "    for i_batch in tqdm(range(0, len(data), actual_batch_size)):\n",
    "        batch_data = data[i_batch:i_batch + actual_batch_size]\n",
    "        batch_errors = errors[i_batch:i_batch + actual_batch_size]\n",
    "        # first axis is object, second is random sample, third is band\n",
    "        batch_X = batch_data[:, None, :] + batch_errors[:, None, :] * deltas[None, :, :]\n",
    "\n",
    "        batch_y = session.run(\n",
    "            [session.get_outputs()[0].name], {session.get_inputs()[0].name: batch_X.reshape(-1, batch_data.shape[1])}\n",
    "        )[0].reshape(batch_data.shape[0], n_samples)\n",
    "\n",
    "        result.append(np.var(batch_y, axis=1))\n",
    "    return np.concatenate(result)"
   ],
   "metadata": {
    "collapsed": false,
    "ExecuteTime": {
     "end_time": "2023-06-27T17:14:02.912488Z",
     "start_time": "2023-06-27T17:14:02.906173Z"
    }
   }
  },
  {
   "cell_type": "code",
   "execution_count": 32,
   "outputs": [],
   "source": [
    "mag_session = rt.InferenceSession(MAG_MODEL, providers=rt.get_available_providers())\n",
    "var_session = rt.InferenceSession(VAR_MODEL, providers=rt.get_available_providers())\n",
    "\n",
    "mag_column_names = [f'{INPUT_SURVEY.lower()}_mag_{band}' for band in INPUT_BANDS]\n",
    "magerr_column_names = [f'{INPUT_SURVEY.lower()}_magerr_{band}' for band in INPUT_BANDS]\n",
    "df = pd.read_parquet(DATAPATH, columns=mag_column_names + magerr_column_names)\n",
    "\n",
    "if SUBSAMPLE is not None:\n",
    "    df = df.sample(SUBSAMPLE, random_state=0)\n",
    "\n",
    "mag = df[mag_column_names].to_numpy(dtype=np.float32)\n",
    "magerr = df[magerr_column_names].to_numpy(dtype=np.float32)"
   ],
   "metadata": {
    "collapsed": false,
    "ExecuteTime": {
     "end_time": "2023-06-27T16:16:08.545533Z",
     "start_time": "2023-06-27T16:16:06.144827Z"
    }
   }
  },
  {
   "cell_type": "code",
   "execution_count": null,
   "outputs": [
    {
     "name": "stderr",
     "output_type": "stream",
     "text": [
      "100%|██████████| 1/1 [00:00<00:00, 21.28it/s]\n",
      " 83%|████████▎ | 7940/9616 [07:08<01:31, 18.29it/s]"
     ]
    }
   ],
   "source": [
    "predicted_var = apply_model_in_batches(var_session, mag)\n",
    "simulated_var = simulate_variance(mag_session, mag, magerr, n_samples=10_000)"
   ],
   "metadata": {
    "collapsed": false,
    "is_executing": true,
    "ExecuteTime": {
     "start_time": "2023-06-27T17:16:06.611230Z"
    }
   }
  },
  {
   "cell_type": "code",
   "execution_count": 45,
   "outputs": [
    {
     "data": {
      "text/plain": "(array([   569.,    608.,    617.,    667.,    716.,    764.,    847.,\n           843.,    956.,   1043.,   1213.,   1274.,   1308.,   1488.,\n          1587.,   1704.,   1887.,   2090.,   2247.,   2453.,   2765.,\n          3047.,   3385.,   3622.,   4196.,   4503.,   5246.,   5835.,\n          6646.,   7594.,   8586.,   9845.,  11158.,  12861.,  14519.,\n         17250.,  20007.,  22926.,  26791.,  31436.,  36533.,  42379.,\n         49273.,  57649.,  67745.,  83083., 107234., 143404., 145601.]),\n array([0.10149474, 0.11970271, 0.13791067, 0.15611864, 0.1743266 ,\n        0.19253456, 0.21074253, 0.22895049, 0.24715846, 0.26536642,\n        0.28357439, 0.30178235, 0.31999032, 0.33819828, 0.35640625,\n        0.37461421, 0.39282218, 0.41103014, 0.4292381 , 0.44744607,\n        0.46565403, 0.483862  , 0.50206996, 0.52027793, 0.53848589,\n        0.55669386, 0.57490182, 0.59310979, 0.61131775, 0.62952572,\n        0.64773368, 0.66594165, 0.68414961, 0.70235757, 0.72056554,\n        0.7387735 , 0.75698147, 0.77518943, 0.7933974 , 0.81160536,\n        0.82981333, 0.84802129, 0.86622926, 0.88443722, 0.90264519,\n        0.92085315, 0.93906111, 0.95726908, 0.97547704, 0.99368501]),\n <BarContainer object of 49 artists>)"
     },
     "execution_count": 45,
     "metadata": {},
     "output_type": "execute_result"
    },
    {
     "data": {
      "text/plain": "<Figure size 640x480 with 1 Axes>",
      "image/png": "[encoded data removed]"
     },
     "metadata": {},
     "output_type": "display_data"
    }
   ],
   "source": [
    "assert np.all(predicted_var > 0)\n",
    "assert np.all(simulated_var > 0)\n",
    "\n",
    "diff = (predicted_var - simulated_var) / predicted_var\n",
    "bellow_zero = np.mean(diff <= 0)\n",
    "plt.title(f'Fraction of negative variances: {bellow_zero:.2%}\\nMaximum relative difference: {np.max(diff):.2f}')\n",
    "plt.hist(diff, bins=np.linspace(*np.quantile(diff, [0.01, 0.99])))"
   ],
   "metadata": {
    "collapsed": false,
    "ExecuteTime": {
     "end_time": "2023-06-27T17:48:19.509658Z",
     "start_time": "2023-06-27T17:48:19.338253Z"
    }
   }
  },
  {
   "cell_type": "code",
   "execution_count": 43,
   "outputs": [
    {
     "data": {
      "text/plain": "1"
     },
     "execution_count": 43,
     "metadata": {},
     "output_type": "execute_result"
    }
   ],
   "source": [
    "1"
   ],
   "metadata": {
    "collapsed": false,
    "ExecuteTime": {
     "end_time": "2023-06-27T17:48:14.607628Z",
     "start_time": "2023-06-27T17:48:14.604724Z"
    }
   }
  },
  {
   "cell_type": "code",
   "execution_count": 44,
   "outputs": [
    {
     "data": {
      "text/plain": "1"
     },
     "execution_count": 44,
     "metadata": {},
     "output_type": "execute_result"
    }
   ],
   "source": [
    "1"
   ],
   "metadata": {
    "collapsed": false,
    "ExecuteTime": {
     "end_time": "2023-06-27T17:48:17.504358Z",
     "start_time": "2023-06-27T17:48:17.480696Z"
    }
   }
  },
  {
   "cell_type": "code",
   "execution_count": null,
   "outputs": [],
   "source": [],
   "metadata": {
    "collapsed": false
   }
  }
 ],
 "metadata": {
  "kernelspec": {
   "display_name": "Python 3",
   "language": "python",
   "name": "python3"
  },
  "language_info": {
   "codemirror_mode": {
    "name": "ipython",
    "version": 2
   },
   "file_extension": ".py",
   "mimetype": "text/x-python",
   "name": "python",
   "nbconvert_exporter": "python",
   "pygments_lexer": "ipython2",
   "version": "2.7.6"
  }
 },
 "nbformat": 4,
 "nbformat_minor": 0
}
