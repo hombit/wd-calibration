{
 "cells": [
  {
   "cell_type": "code",
   "execution_count": 9,
   "metadata": {
    "collapsed": true,
    "ExecuteTime": {
     "end_time": "2023-06-26T14:11:55.261860Z",
     "start_time": "2023-06-26T14:11:55.258388Z"
    }
   },
   "outputs": [],
   "source": [
    "import numpy as np\n",
    "import onnxruntime as rt\n",
    "import polars as pl"
   ]
  },
  {
   "cell_type": "code",
   "execution_count": 48,
   "outputs": [],
   "source": [
    "columns = [f\"ps1_mag_{b}\" for b in \"grizy\"]\n",
    "n_rows = 1_000\n",
    "df = pl.read_parquet(\"data/ps1_stars.parquet\", columns=columns, n_rows=n_rows)"
   ],
   "metadata": {
    "collapsed": false,
    "ExecuteTime": {
     "end_time": "2023-06-26T15:09:13.062465Z",
     "start_time": "2023-06-26T15:09:13.054969Z"
    }
   }
  },
  {
   "cell_type": "code",
   "execution_count": null,
   "outputs": [],
   "source": [
    "session = rt.InferenceSession(\"models/phot-transformation/DES_r-PS1_g--r--i--z--y.onnx\", providers=rt.get_available_providers())\n",
    "\n",
    "def model(x):\n",
    "    return session.run([session.get_outputs()[0].name], {session.get_inputs()[0].name: x})[0].squeeze()"
   ],
   "metadata": {
    "collapsed": false
   }
  },
  {
   "cell_type": "code",
   "execution_count": 53,
   "outputs": [
    {
     "data": {
      "text/plain": "array([[0.99999988, 0.99140847, 0.99009228, 0.99774969, 0.9921217 ,\n        0.99108124, 0.9992404 , 0.99072438, 0.987037  , 0.99329388],\n       [0.99140847, 1.        , 0.99981236, 0.98922229, 0.99826777,\n        0.99794787, 0.99416304, 0.99741453, 0.99585289, 0.99953651],\n       [0.99009228, 0.99981236, 1.        , 0.98775053, 0.99867648,\n        0.99824804, 0.99316853, 0.9965958 , 0.99662626, 0.99920946],\n       [0.99774969, 0.98922229, 0.98775053, 1.00000012, 0.98977983,\n        0.98626614, 0.9957372 , 0.99227834, 0.98336244, 0.99239725],\n       [0.9921217 , 0.99826777, 0.99867648, 0.98977983, 0.99999994,\n        0.99911493, 0.99492407, 0.99430639, 0.99877745, 0.99776417],\n       [0.99108124, 0.99794787, 0.99824804, 0.98626614, 0.99911493,\n        1.00000012, 0.99458432, 0.99251068, 0.99864388, 0.99649894],\n       [0.9992404 , 0.99416304, 0.99316853, 0.9957372 , 0.99492407,\n        0.99458432, 1.00000012, 0.99130762, 0.99149454, 0.99510759],\n       [0.99072438, 0.99741453, 0.9965958 , 0.99227834, 0.99430639,\n        0.99251068, 0.99130762, 1.        , 0.98934114, 0.99832678],\n       [0.987037  , 0.99585289, 0.99662626, 0.98336244, 0.99877745,\n        0.99864388, 0.99149454, 0.98934114, 0.99999994, 0.99418318],\n       [0.99329388, 0.99953651, 0.99920946, 0.99239725, 0.99776417,\n        0.99649894, 0.99510759, 0.99832678, 0.99418318, 1.        ]])"
     },
     "execution_count": 53,
     "metadata": {},
     "output_type": "execute_result"
    }
   ],
   "source": [
    "def cov(i, j):\n",
    "    n_samples = 1_000_000\n",
    "    delta_scale = 1e-3\n",
    "\n",
    "    rng = np.random.default_rng(0)\n",
    "    deltas_i = rng.normal(loc=0, scale=delta_scale, size=(n_samples, len(columns)))\n",
    "    # should j be the same as i?\n",
    "    # deltas_j = rng.normal(loc=0, scale=delta_scale, size=(n_samples, len(columns)))\n",
    "    deltas_j = deltas_i\n",
    "\n",
    "    X_i = df[i].to_numpy() + deltas_i\n",
    "    X_j = df[j].to_numpy() + deltas_j\n",
    "\n",
    "    y_i = model(X_i.astype(np.float32))\n",
    "    y_j = model(X_j.astype(np.float32))\n",
    "\n",
    "    return np.mean((y_i - np.mean(y_i)) * (y_j - np.mean(y_j))) / (np.std(y_i) * np.std(y_j))\n",
    "\n",
    "m = np.zeros((10, 10))\n",
    "for i in range(m.shape[0]):\n",
    "    for j in range(m.shape[1]):\n",
    "        m[i, j] = cov(i, j)\n",
    "\n",
    "m"
   ],
   "metadata": {
    "collapsed": false,
    "ExecuteTime": {
     "end_time": "2023-06-26T20:17:13.874653Z",
     "start_time": "2023-06-26T20:17:01.255196Z"
    }
   }
  },
  {
   "cell_type": "code",
   "execution_count": null,
   "outputs": [],
   "source": [],
   "metadata": {
    "collapsed": false
   }
  }
 ],
 "metadata": {
  "kernelspec": {
   "display_name": "Python 3",
   "language": "python",
   "name": "python3"
  },
  "language_info": {
   "codemirror_mode": {
    "name": "ipython",
    "version": 2
   },
   "file_extension": ".py",
   "mimetype": "text/x-python",
   "name": "python",
   "nbconvert_exporter": "python",
   "pygments_lexer": "ipython2",
   "version": "2.7.6"
  }
 },
 "nbformat": 4,
 "nbformat_minor": 0
}
