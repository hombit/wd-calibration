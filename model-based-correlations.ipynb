{
 "cells": [
  {
   "cell_type": "code",
   "execution_count": 55,
   "metadata": {
    "collapsed": true,
    "ExecuteTime": {
     "end_time": "2023-06-27T18:35:27.357406Z",
     "start_time": "2023-06-27T18:35:27.349285Z"
    }
   },
   "outputs": [],
   "source": [
    "import numpy as np\n",
    "import onnxruntime as rt\n",
    "import polars as pl"
   ]
  },
  {
   "cell_type": "code",
   "execution_count": 56,
   "outputs": [],
   "source": [
    "mag_columns = [f\"ps1_mag_{b}\" for b in \"grizy\"]\n",
    "magerr_columns = [f\"ps1_magerr_{b}\" for b in \"grizy\"]\n",
    "n_rows = 1_000\n",
    "df = pl.read_parquet(\"data/ps1_stars.parquet\", columns=mag_columns + magerr_columns, n_rows=n_rows)"
   ],
   "metadata": {
    "collapsed": false,
    "ExecuteTime": {
     "end_time": "2023-06-27T18:35:28.242499Z",
     "start_time": "2023-06-27T18:35:28.195471Z"
    }
   }
  },
  {
   "cell_type": "code",
   "execution_count": 57,
   "outputs": [],
   "source": [
    "session = rt.InferenceSession(\"models/phot-transformation/DES_r-PS1_g--r--i--z--y.onnx\", providers=rt.get_available_providers())\n",
    "session_var = rt.InferenceSession(\"models/phot-transformation/var_DES_r-PS1_g--r--i--z--y.onnx\", providers=rt.get_available_providers())\n",
    "\n",
    "def model(x):\n",
    "    return session.run([session.get_outputs()[0].name], {session.get_inputs()[0].name: x})[0].squeeze()"
   ],
   "metadata": {
    "collapsed": false,
    "ExecuteTime": {
     "end_time": "2023-06-27T18:35:28.778680Z",
     "start_time": "2023-06-27T18:35:28.769979Z"
    }
   }
  },
  {
   "cell_type": "code",
   "execution_count": 70,
   "outputs": [
    {
     "data": {
      "text/plain": "array([[0.0001249 , 0.00016463, 0.00016535, 0.00014145, 0.0001951 ,\n        0.00016066, 0.00015716, 0.00016515, 0.00035366, 0.00014684],\n       [0.00016463, 0.00022066, 0.00022186, 0.00018648, 0.0002609 ,\n        0.00021498, 0.00020787, 0.00022093, 0.00047421, 0.00019636],\n       [0.00016535, 0.00022186, 0.00022314, 0.00018722, 0.00026244,\n        0.00021628, 0.00020883, 0.00022204, 0.00047718, 0.00019738],\n       [0.00014145, 0.00018648, 0.00018722, 0.00016088, 0.00022088,\n        0.00018152, 0.00017776, 0.00018782, 0.00039985, 0.0001665 ],\n       [0.0001951 , 0.0002609 , 0.00026244, 0.00022088, 0.00030942,\n        0.00025496, 0.00024633, 0.00026098, 0.00056307, 0.0002321 ],\n       [0.00016066, 0.00021498, 0.00021628, 0.00018152, 0.00025496,\n        0.00021029, 0.00020302, 0.00021461, 0.0004643 , 0.00019114],\n       [0.00015716, 0.00020787, 0.00020883, 0.00017776, 0.00024633,\n        0.00020302, 0.00019805, 0.00020809, 0.00044727, 0.00018522],\n       [0.00016515, 0.00022093, 0.00022204, 0.00018782, 0.00026098,\n        0.00021461, 0.00020809, 0.00022224, 0.00047314, 0.00019691],\n       [0.00035366, 0.00047421, 0.00047718, 0.00039985, 0.00056307,\n        0.0004643 , 0.00044727, 0.00047314, 0.00102712, 0.00042139],\n       [0.00014684, 0.00019636, 0.00019738, 0.0001665 , 0.0002321 ,\n        0.00019114, 0.00018522, 0.00019691, 0.00042139, 0.00017487]])"
     },
     "execution_count": 70,
     "metadata": {},
     "output_type": "execute_result"
    }
   ],
   "source": [
    "from calibration.color_transformation.apply import estimate_total_covariance\n",
    "\n",
    "cov = estimate_total_covariance(session, session_var, df[mag_columns][:10].to_numpy(), df[magerr_columns][:10].to_numpy())\n",
    "cov\n",
    "# np.linalg.inv(cov)"
   ],
   "metadata": {
    "collapsed": false,
    "ExecuteTime": {
     "end_time": "2023-06-27T19:34:55.067084Z",
     "start_time": "2023-06-27T19:34:55.044688Z"
    }
   }
  },
  {
   "cell_type": "code",
   "execution_count": 53,
   "outputs": [
    {
     "data": {
      "text/plain": "array([[0.99999988, 0.99140847, 0.99009228, 0.99774969, 0.9921217 ,\n        0.99108124, 0.9992404 , 0.99072438, 0.987037  , 0.99329388],\n       [0.99140847, 1.        , 0.99981236, 0.98922229, 0.99826777,\n        0.99794787, 0.99416304, 0.99741453, 0.99585289, 0.99953651],\n       [0.99009228, 0.99981236, 1.        , 0.98775053, 0.99867648,\n        0.99824804, 0.99316853, 0.9965958 , 0.99662626, 0.99920946],\n       [0.99774969, 0.98922229, 0.98775053, 1.00000012, 0.98977983,\n        0.98626614, 0.9957372 , 0.99227834, 0.98336244, 0.99239725],\n       [0.9921217 , 0.99826777, 0.99867648, 0.98977983, 0.99999994,\n        0.99911493, 0.99492407, 0.99430639, 0.99877745, 0.99776417],\n       [0.99108124, 0.99794787, 0.99824804, 0.98626614, 0.99911493,\n        1.00000012, 0.99458432, 0.99251068, 0.99864388, 0.99649894],\n       [0.9992404 , 0.99416304, 0.99316853, 0.9957372 , 0.99492407,\n        0.99458432, 1.00000012, 0.99130762, 0.99149454, 0.99510759],\n       [0.99072438, 0.99741453, 0.9965958 , 0.99227834, 0.99430639,\n        0.99251068, 0.99130762, 1.        , 0.98934114, 0.99832678],\n       [0.987037  , 0.99585289, 0.99662626, 0.98336244, 0.99877745,\n        0.99864388, 0.99149454, 0.98934114, 0.99999994, 0.99418318],\n       [0.99329388, 0.99953651, 0.99920946, 0.99239725, 0.99776417,\n        0.99649894, 0.99510759, 0.99832678, 0.99418318, 1.        ]])"
     },
     "execution_count": 53,
     "metadata": {},
     "output_type": "execute_result"
    }
   ],
   "source": [
    "def cov(i, j):\n",
    "    n_samples = 1_000_000\n",
    "    delta_scale = 1e-3\n",
    "\n",
    "    rng = np.random.default_rng(0)\n",
    "    deltas_i = rng.normal(loc=0, scale=delta_scale, size=(n_samples, len(columns)))\n",
    "    # should j be the same as i?\n",
    "    # deltas_j = rng.normal(loc=0, scale=delta_scale, size=(n_samples, len(columns)))\n",
    "    deltas_j = deltas_i\n",
    "\n",
    "    X_i = df[i].to_numpy() + deltas_i\n",
    "    X_j = df[j].to_numpy() + deltas_j\n",
    "\n",
    "    y_i = model(X_i.astype(np.float32))\n",
    "    y_j = model(X_j.astype(np.float32))\n",
    "\n",
    "    return np.mean((y_i - np.mean(y_i)) * (y_j - np.mean(y_j))) / (np.std(y_i) * np.std(y_j))\n",
    "\n",
    "m = np.zeros((10, 10))\n",
    "for i in range(m.shape[0]):\n",
    "    for j in range(m.shape[1]):\n",
    "        m[i, j] = cov(i, j)\n",
    "\n",
    "m"
   ],
   "metadata": {
    "collapsed": false,
    "ExecuteTime": {
     "end_time": "2023-06-26T20:17:13.874653Z",
     "start_time": "2023-06-26T20:17:01.255196Z"
    }
   }
  },
  {
   "cell_type": "code",
   "execution_count": null,
   "outputs": [],
   "source": [],
   "metadata": {
    "collapsed": false
   }
  }
 ],
 "metadata": {
  "kernelspec": {
   "display_name": "Python 3",
   "language": "python",
   "name": "python3"
  },
  "language_info": {
   "codemirror_mode": {
    "name": "ipython",
    "version": 2
   },
   "file_extension": ".py",
   "mimetype": "text/x-python",
   "name": "python",
   "nbconvert_exporter": "python",
   "pygments_lexer": "ipython2",
   "version": "2.7.6"
  }
 },
 "nbformat": 4,
 "nbformat_minor": 0
}
